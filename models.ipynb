{
 "cells": [
  {
   "cell_type": "code",
   "execution_count": 1,
   "metadata": {
    "id": "1XGuORg1sKrI"
   },
   "outputs": [],
   "source": [
    "import pandas as pd\n",
    "import numpy as np\n",
    "import matplotlib.pyplot as plt\n",
    "import seaborn as sns\n",
    "import sklearn\n",
    "from sklearn import model_selection\n",
    "from sklearn.linear_model import LinearRegression\n",
    "from sklearn.linear_model import Ridge\n",
    "from sklearn.linear_model import Lasso\n",
    "from sklearn.linear_model import ElasticNet\n",
    "from sklearn.neighbors import KNeighborsRegressor\n",
    "from sklearn.tree import DecisionTreeRegressor\n",
    "from sklearn.svm import SVR\n",
    "from sklearn.ensemble import RandomForestRegressor\n",
    "from sklearn.metrics import r2_score\n",
    "from sklearn.model_selection import train_test_split\n",
    "from sklearn.metrics import mean_squared_error\n",
    "from math import sqrt\n",
    "from sklearn.linear_model import MultiTaskLassoCV\n",
    "from sklearn.model_selection import RepeatedKFold\n",
    "from sklearn.model_selection import GridSearchCV\n",
    "from sklearn.linear_model import RidgeCV\n",
    "from statsmodels.stats.outliers_influence import variance_inflation_factor"
   ]
  },
  {
   "cell_type": "code",
   "execution_count": 2,
   "metadata": {
    "colab": {
     "base_uri": "https://localhost:8080/"
    },
    "id": "F0Dp2jGPsRBj",
    "outputId": "5215b77e-89d5-4fd8-c036-ab6bca62ac57"
   },
   "outputs": [
    {
     "name": "stdout",
     "output_type": "stream",
     "text": [
      "(429, 57)\n"
     ]
    },
    {
     "data": {
      "text/html": [
       "<div>\n",
       "<style scoped>\n",
       "    .dataframe tbody tr th:only-of-type {\n",
       "        vertical-align: middle;\n",
       "    }\n",
       "\n",
       "    .dataframe tbody tr th {\n",
       "        vertical-align: top;\n",
       "    }\n",
       "\n",
       "    .dataframe thead th {\n",
       "        text-align: right;\n",
       "    }\n",
       "</style>\n",
       "<table border=\"1\" class=\"dataframe\">\n",
       "  <thead>\n",
       "    <tr style=\"text-align: right;\">\n",
       "      <th></th>\n",
       "      <th>1.1.4) Gender gap in internet access</th>\n",
       "      <th>1.2.2) Average fixed broadband download speed</th>\n",
       "      <th>1.2.7) Bandwidth capacity</th>\n",
       "      <th>1.3.1) Network coverage (min. 2G)</th>\n",
       "      <th>1.3.2) Network coverage (min. 3G)</th>\n",
       "      <th>1.3.3) Network coverage (min. 4G)</th>\n",
       "      <th>1.3.5) Government initiatives to make Wi-Fi available</th>\n",
       "      <th>1.3.6) Private sector initiatives to make Wi-Fi available</th>\n",
       "      <th>1.4.1) Urban electricity access</th>\n",
       "      <th>1.4.2) Rural electricity access</th>\n",
       "      <th>...</th>\n",
       "      <th>BG11) Democracy Index</th>\n",
       "      <th>BG12) Corruption Perceptions Index</th>\n",
       "      <th>BG13) EIU Business Environment Rankings</th>\n",
       "      <th>BG14) UN E-Government Development Index</th>\n",
       "      <th>BG17) Internet access gender gap</th>\n",
       "      <th>BG18) Mobile phone access gender gap</th>\n",
       "      <th>BG19) Internet users (percent of population)</th>\n",
       "      <th>BG20) Male internet users</th>\n",
       "      <th>BG21) Female internet users</th>\n",
       "      <th>BG24) Total fixed line broadband subscribers</th>\n",
       "    </tr>\n",
       "  </thead>\n",
       "  <tbody>\n",
       "    <tr>\n",
       "      <th>count</th>\n",
       "      <td>429.000000</td>\n",
       "      <td>429.000000</td>\n",
       "      <td>4.290000e+02</td>\n",
       "      <td>429.000000</td>\n",
       "      <td>429.000000</td>\n",
       "      <td>429.000000</td>\n",
       "      <td>429.000000</td>\n",
       "      <td>429.000000</td>\n",
       "      <td>429.000000</td>\n",
       "      <td>429.000000</td>\n",
       "      <td>...</td>\n",
       "      <td>429.000000</td>\n",
       "      <td>429.000000</td>\n",
       "      <td>429.000000</td>\n",
       "      <td>429.000000</td>\n",
       "      <td>429.000000</td>\n",
       "      <td>429.000000</td>\n",
       "      <td>429.000000</td>\n",
       "      <td>429.000000</td>\n",
       "      <td>429.000000</td>\n",
       "      <td>429.000000</td>\n",
       "    </tr>\n",
       "    <tr>\n",
       "      <th>mean</th>\n",
       "      <td>15.687879</td>\n",
       "      <td>39.207133</td>\n",
       "      <td>1.426804e+05</td>\n",
       "      <td>95.944149</td>\n",
       "      <td>86.986760</td>\n",
       "      <td>68.728811</td>\n",
       "      <td>1.596737</td>\n",
       "      <td>1.317016</td>\n",
       "      <td>91.700723</td>\n",
       "      <td>76.791282</td>\n",
       "      <td>...</td>\n",
       "      <td>5.796037</td>\n",
       "      <td>45.398601</td>\n",
       "      <td>5.932634</td>\n",
       "      <td>0.600699</td>\n",
       "      <td>6.082284</td>\n",
       "      <td>5.783217</td>\n",
       "      <td>56.037529</td>\n",
       "      <td>6.764211</td>\n",
       "      <td>6.334652</td>\n",
       "      <td>143737.376584</td>\n",
       "    </tr>\n",
       "    <tr>\n",
       "      <th>std</th>\n",
       "      <td>18.807892</td>\n",
       "      <td>38.214072</td>\n",
       "      <td>8.785347e+05</td>\n",
       "      <td>7.394996</td>\n",
       "      <td>18.044832</td>\n",
       "      <td>33.534190</td>\n",
       "      <td>0.750756</td>\n",
       "      <td>0.881913</td>\n",
       "      <td>16.405713</td>\n",
       "      <td>34.173803</td>\n",
       "      <td>...</td>\n",
       "      <td>2.065359</td>\n",
       "      <td>19.028559</td>\n",
       "      <td>1.301583</td>\n",
       "      <td>0.211303</td>\n",
       "      <td>6.387836</td>\n",
       "      <td>7.644111</td>\n",
       "      <td>29.026809</td>\n",
       "      <td>10.831653</td>\n",
       "      <td>10.566943</td>\n",
       "      <td>141649.182669</td>\n",
       "    </tr>\n",
       "    <tr>\n",
       "      <th>min</th>\n",
       "      <td>-16.700000</td>\n",
       "      <td>2.530000</td>\n",
       "      <td>4.990000e+02</td>\n",
       "      <td>50.000000</td>\n",
       "      <td>20.000000</td>\n",
       "      <td>0.000000</td>\n",
       "      <td>0.000000</td>\n",
       "      <td>0.000000</td>\n",
       "      <td>16.400000</td>\n",
       "      <td>0.360000</td>\n",
       "      <td>...</td>\n",
       "      <td>1.100000</td>\n",
       "      <td>14.000000</td>\n",
       "      <td>2.900000</td>\n",
       "      <td>0.100000</td>\n",
       "      <td>-9.000000</td>\n",
       "      <td>-9.000000</td>\n",
       "      <td>2.700000</td>\n",
       "      <td>0.014786</td>\n",
       "      <td>0.005915</td>\n",
       "      <td>11.890606</td>\n",
       "    </tr>\n",
       "    <tr>\n",
       "      <th>25%</th>\n",
       "      <td>2.100000</td>\n",
       "      <td>11.580000</td>\n",
       "      <td>1.474600e+04</td>\n",
       "      <td>95.610000</td>\n",
       "      <td>80.000000</td>\n",
       "      <td>40.350000</td>\n",
       "      <td>2.000000</td>\n",
       "      <td>0.000000</td>\n",
       "      <td>93.000000</td>\n",
       "      <td>59.710000</td>\n",
       "      <td>...</td>\n",
       "      <td>3.900000</td>\n",
       "      <td>31.000000</td>\n",
       "      <td>5.000000</td>\n",
       "      <td>0.400000</td>\n",
       "      <td>2.000000</td>\n",
       "      <td>1.000000</td>\n",
       "      <td>27.100000</td>\n",
       "      <td>0.989583</td>\n",
       "      <td>0.704698</td>\n",
       "      <td>13201.259796</td>\n",
       "    </tr>\n",
       "    <tr>\n",
       "      <th>50%</th>\n",
       "      <td>8.800000</td>\n",
       "      <td>23.440000</td>\n",
       "      <td>4.431900e+04</td>\n",
       "      <td>99.000000</td>\n",
       "      <td>95.000000</td>\n",
       "      <td>83.050000</td>\n",
       "      <td>2.000000</td>\n",
       "      <td>2.000000</td>\n",
       "      <td>100.000000</td>\n",
       "      <td>98.150000</td>\n",
       "      <td>...</td>\n",
       "      <td>6.100000</td>\n",
       "      <td>40.000000</td>\n",
       "      <td>5.700000</td>\n",
       "      <td>0.600000</td>\n",
       "      <td>5.000000</td>\n",
       "      <td>4.000000</td>\n",
       "      <td>61.800000</td>\n",
       "      <td>2.072650</td>\n",
       "      <td>1.660156</td>\n",
       "      <td>95671.875000</td>\n",
       "    </tr>\n",
       "    <tr>\n",
       "      <th>75%</th>\n",
       "      <td>27.300000</td>\n",
       "      <td>54.930000</td>\n",
       "      <td>8.439200e+04</td>\n",
       "      <td>99.920000</td>\n",
       "      <td>99.500000</td>\n",
       "      <td>98.500000</td>\n",
       "      <td>2.000000</td>\n",
       "      <td>2.000000</td>\n",
       "      <td>100.000000</td>\n",
       "      <td>100.000000</td>\n",
       "      <td>...</td>\n",
       "      <td>7.500000</td>\n",
       "      <td>59.000000</td>\n",
       "      <td>6.900000</td>\n",
       "      <td>0.800000</td>\n",
       "      <td>10.000000</td>\n",
       "      <td>9.900000</td>\n",
       "      <td>81.900000</td>\n",
       "      <td>8.173913</td>\n",
       "      <td>7.583333</td>\n",
       "      <td>276839.473684</td>\n",
       "    </tr>\n",
       "    <tr>\n",
       "      <th>max</th>\n",
       "      <td>86.700000</td>\n",
       "      <td>203.510000</td>\n",
       "      <td>1.438529e+07</td>\n",
       "      <td>100.000000</td>\n",
       "      <td>100.000000</td>\n",
       "      <td>100.000000</td>\n",
       "      <td>2.000000</td>\n",
       "      <td>2.000000</td>\n",
       "      <td>100.000000</td>\n",
       "      <td>100.000000</td>\n",
       "      <td>...</td>\n",
       "      <td>9.400000</td>\n",
       "      <td>90.000000</td>\n",
       "      <td>8.500000</td>\n",
       "      <td>1.000000</td>\n",
       "      <td>28.000000</td>\n",
       "      <td>59.000000</td>\n",
       "      <td>99.700000</td>\n",
       "      <td>69.230769</td>\n",
       "      <td>65.384615</td>\n",
       "      <td>460790.588235</td>\n",
       "    </tr>\n",
       "  </tbody>\n",
       "</table>\n",
       "<p>8 rows × 57 columns</p>\n",
       "</div>"
      ],
      "text/plain": [
       "       1.1.4) Gender gap in internet access  \\\n",
       "count                            429.000000   \n",
       "mean                              15.687879   \n",
       "std                               18.807892   \n",
       "min                              -16.700000   \n",
       "25%                                2.100000   \n",
       "50%                                8.800000   \n",
       "75%                               27.300000   \n",
       "max                               86.700000   \n",
       "\n",
       "       1.2.2) Average fixed broadband download speed  \\\n",
       "count                                     429.000000   \n",
       "mean                                       39.207133   \n",
       "std                                        38.214072   \n",
       "min                                         2.530000   \n",
       "25%                                        11.580000   \n",
       "50%                                        23.440000   \n",
       "75%                                        54.930000   \n",
       "max                                       203.510000   \n",
       "\n",
       "       1.2.7) Bandwidth capacity  1.3.1) Network coverage (min. 2G)  \\\n",
       "count               4.290000e+02                         429.000000   \n",
       "mean                1.426804e+05                          95.944149   \n",
       "std                 8.785347e+05                           7.394996   \n",
       "min                 4.990000e+02                          50.000000   \n",
       "25%                 1.474600e+04                          95.610000   \n",
       "50%                 4.431900e+04                          99.000000   \n",
       "75%                 8.439200e+04                          99.920000   \n",
       "max                 1.438529e+07                         100.000000   \n",
       "\n",
       "       1.3.2) Network coverage (min. 3G)  1.3.3) Network coverage (min. 4G)  \\\n",
       "count                         429.000000                         429.000000   \n",
       "mean                           86.986760                          68.728811   \n",
       "std                            18.044832                          33.534190   \n",
       "min                            20.000000                           0.000000   \n",
       "25%                            80.000000                          40.350000   \n",
       "50%                            95.000000                          83.050000   \n",
       "75%                            99.500000                          98.500000   \n",
       "max                           100.000000                         100.000000   \n",
       "\n",
       "       1.3.5) Government initiatives to make Wi-Fi available  \\\n",
       "count                                         429.000000       \n",
       "mean                                            1.596737       \n",
       "std                                             0.750756       \n",
       "min                                             0.000000       \n",
       "25%                                             2.000000       \n",
       "50%                                             2.000000       \n",
       "75%                                             2.000000       \n",
       "max                                             2.000000       \n",
       "\n",
       "       1.3.6) Private sector initiatives to make Wi-Fi available  \\\n",
       "count                                         429.000000           \n",
       "mean                                            1.317016           \n",
       "std                                             0.881913           \n",
       "min                                             0.000000           \n",
       "25%                                             0.000000           \n",
       "50%                                             2.000000           \n",
       "75%                                             2.000000           \n",
       "max                                             2.000000           \n",
       "\n",
       "       1.4.1) Urban electricity access  1.4.2) Rural electricity access  ...  \\\n",
       "count                       429.000000                       429.000000  ...   \n",
       "mean                         91.700723                        76.791282  ...   \n",
       "std                          16.405713                        34.173803  ...   \n",
       "min                          16.400000                         0.360000  ...   \n",
       "25%                          93.000000                        59.710000  ...   \n",
       "50%                         100.000000                        98.150000  ...   \n",
       "75%                         100.000000                       100.000000  ...   \n",
       "max                         100.000000                       100.000000  ...   \n",
       "\n",
       "       BG11) Democracy Index  BG12) Corruption Perceptions Index  \\\n",
       "count             429.000000                          429.000000   \n",
       "mean                5.796037                           45.398601   \n",
       "std                 2.065359                           19.028559   \n",
       "min                 1.100000                           14.000000   \n",
       "25%                 3.900000                           31.000000   \n",
       "50%                 6.100000                           40.000000   \n",
       "75%                 7.500000                           59.000000   \n",
       "max                 9.400000                           90.000000   \n",
       "\n",
       "       BG13) EIU Business Environment Rankings  \\\n",
       "count                               429.000000   \n",
       "mean                                  5.932634   \n",
       "std                                   1.301583   \n",
       "min                                   2.900000   \n",
       "25%                                   5.000000   \n",
       "50%                                   5.700000   \n",
       "75%                                   6.900000   \n",
       "max                                   8.500000   \n",
       "\n",
       "       BG14) UN E-Government Development Index  \\\n",
       "count                               429.000000   \n",
       "mean                                  0.600699   \n",
       "std                                   0.211303   \n",
       "min                                   0.100000   \n",
       "25%                                   0.400000   \n",
       "50%                                   0.600000   \n",
       "75%                                   0.800000   \n",
       "max                                   1.000000   \n",
       "\n",
       "       BG17) Internet access gender gap  BG18) Mobile phone access gender gap  \\\n",
       "count                        429.000000                            429.000000   \n",
       "mean                           6.082284                              5.783217   \n",
       "std                            6.387836                              7.644111   \n",
       "min                           -9.000000                             -9.000000   \n",
       "25%                            2.000000                              1.000000   \n",
       "50%                            5.000000                              4.000000   \n",
       "75%                           10.000000                              9.900000   \n",
       "max                           28.000000                             59.000000   \n",
       "\n",
       "       BG19) Internet users (percent of population)  \\\n",
       "count                                    429.000000   \n",
       "mean                                      56.037529   \n",
       "std                                       29.026809   \n",
       "min                                        2.700000   \n",
       "25%                                       27.100000   \n",
       "50%                                       61.800000   \n",
       "75%                                       81.900000   \n",
       "max                                       99.700000   \n",
       "\n",
       "       BG20) Male internet users  BG21) Female internet users  \\\n",
       "count                 429.000000                   429.000000   \n",
       "mean                    6.764211                     6.334652   \n",
       "std                    10.831653                    10.566943   \n",
       "min                     0.014786                     0.005915   \n",
       "25%                     0.989583                     0.704698   \n",
       "50%                     2.072650                     1.660156   \n",
       "75%                     8.173913                     7.583333   \n",
       "max                    69.230769                    65.384615   \n",
       "\n",
       "       BG24) Total fixed line broadband subscribers  \n",
       "count                                    429.000000  \n",
       "mean                                  143737.376584  \n",
       "std                                   141649.182669  \n",
       "min                                       11.890606  \n",
       "25%                                    13201.259796  \n",
       "50%                                    95671.875000  \n",
       "75%                                   276839.473684  \n",
       "max                                   460790.588235  \n",
       "\n",
       "[8 rows x 57 columns]"
      ]
     },
     "execution_count": 2,
     "metadata": {},
     "output_type": "execute_result"
    }
   ],
   "source": [
    "#load dataset\n",
    "df = pd.read_csv('cleaned_data.csv') \n",
    "df = df.drop(['Unnamed: 0'], axis = 1)\n",
    "print(df.shape)\n",
    "df.describe()"
   ]
  },
  {
   "cell_type": "code",
   "execution_count": 3,
   "metadata": {
    "colab": {
     "base_uri": "https://localhost:8080/"
    },
    "id": "w6bJBjtzsoRh",
    "outputId": "1d684f5d-efef-458f-bebd-bc5536d35daf"
   },
   "outputs": [
    {
     "data": {
      "text/plain": [
       "Index(['1.1.4) Gender gap in internet access',\n",
       "       '1.2.2) Average fixed broadband download speed',\n",
       "       '1.2.7) Bandwidth capacity', '1.3.1) Network coverage (min. 2G)',\n",
       "       '1.3.2) Network coverage (min. 3G)',\n",
       "       '1.3.3) Network coverage (min. 4G)',\n",
       "       '1.3.5) Government initiatives to make Wi-Fi available',\n",
       "       '1.3.6) Private sector initiatives to make Wi-Fi available',\n",
       "       '1.4.1) Urban electricity access', '1.4.2) Rural electricity access',\n",
       "       '2.1.1) Smartphone cost (handset)',\n",
       "       '2.1.2) Mobile phone cost (prepaid tariff)',\n",
       "       '2.1.3) Mobile phone cost (postpaid tariff)',\n",
       "       '2.1.4) Fixed-line monthly broadband cost',\n",
       "       '2.2.2) Wireless operators' market share',\n",
       "       '2.2.3) Broadband operators' market share',\n",
       "       '3.1.1) Availability of local news in local languages',\n",
       "       '3.1.2) Concentration of websites using country-level domains',\n",
       "       '3.1.3) Availability of e-Government services in the local language',\n",
       "       '3.2.1) e-Finance content', '3.2.3) e-Health content',\n",
       "       '3.2.5) e-Entertainment usage', '3.2.6) e-Commerce content',\n",
       "       '3.2.8) Open data policies', '4.1.1) Level of literacy',\n",
       "       '4.1.2) Educational attainment', '4.1.3) Support for digital literacy',\n",
       "       '4.1.4) Level of web accessibility', '4.2.1) Privacy regulations',\n",
       "       '4.2.2) Trust in online privacy',\n",
       "       '4.2.3) Trust in Government websites and apps',\n",
       "       '4.2.4) Trust in Non-government websites and apps',\n",
       "       '4.2.5) Trust in information from social media',\n",
       "       '4.2.6) e-Commerce safety',\n",
       "       '4.3.1.1) Comprehensive female e-inclusion plan',\n",
       "       '4.3.1.2) Female digital skills training plan',\n",
       "       '4.3.1.3) Female STEM education plan',\n",
       "       '4.3.2) Government e-inclusion strategy',\n",
       "       '4.3.3) National broadband strategy',\n",
       "       '4.3.4) Funding for broadband buildout',\n",
       "       '4.3.5) Technology-neutrality policy for spectrum use',\n",
       "       '4.3.6) National digital identification system', 'BG2) Population',\n",
       "       'BG5) GINI coefficient', 'BG7) Total electricity access',\n",
       "       'BG9) Percentage of schools with Internet access',\n",
       "       'BG10) Global Peace Index', 'BG11) Democracy Index',\n",
       "       'BG12) Corruption Perceptions Index',\n",
       "       'BG13) EIU Business Environment Rankings',\n",
       "       'BG14) UN E-Government Development Index',\n",
       "       'BG17) Internet access gender gap',\n",
       "       'BG18) Mobile phone access gender gap',\n",
       "       'BG19) Internet users (percent of population)',\n",
       "       'BG20) Male internet users', 'BG21) Female internet users',\n",
       "       'BG24) Total fixed line broadband subscribers'],\n",
       "      dtype='object')"
      ]
     },
     "execution_count": 3,
     "metadata": {},
     "output_type": "execute_result"
    }
   ],
   "source": [
    "df.columns"
   ]
  },
  {
   "cell_type": "markdown",
   "metadata": {
    "id": "CiD5FbDktH_K"
   },
   "source": [
    "## Separation of targets"
   ]
  },
  {
   "cell_type": "code",
   "execution_count": 4,
   "metadata": {
    "id": "CmW1FwjFsrR5"
   },
   "outputs": [],
   "source": [
    "y_gini = df['BG5) GINI coefficient']\n",
    "y_peace = df['BG10) Global Peace Index']\n",
    "y_dem = df['BG11) Democracy Index']\n",
    "y_corr = df['BG12) Corruption Perceptions Index']"
   ]
  },
  {
   "cell_type": "code",
   "execution_count": 5,
   "metadata": {
    "colab": {
     "base_uri": "https://localhost:8080/"
    },
    "id": "pM7f0XNWtMG5",
    "outputId": "14a6a724-ddf9-4fa0-d150-207a9a95e196"
   },
   "outputs": [
    {
     "data": {
      "text/html": [
       "<div>\n",
       "<style scoped>\n",
       "    .dataframe tbody tr th:only-of-type {\n",
       "        vertical-align: middle;\n",
       "    }\n",
       "\n",
       "    .dataframe tbody tr th {\n",
       "        vertical-align: top;\n",
       "    }\n",
       "\n",
       "    .dataframe thead th {\n",
       "        text-align: right;\n",
       "    }\n",
       "</style>\n",
       "<table border=\"1\" class=\"dataframe\">\n",
       "  <thead>\n",
       "    <tr style=\"text-align: right;\">\n",
       "      <th></th>\n",
       "      <th>1.1.4) Gender gap in internet access</th>\n",
       "      <th>1.2.2) Average fixed broadband download speed</th>\n",
       "      <th>1.2.7) Bandwidth capacity</th>\n",
       "      <th>1.3.1) Network coverage (min. 2G)</th>\n",
       "      <th>1.3.2) Network coverage (min. 3G)</th>\n",
       "      <th>1.3.3) Network coverage (min. 4G)</th>\n",
       "      <th>1.3.5) Government initiatives to make Wi-Fi available</th>\n",
       "      <th>1.3.6) Private sector initiatives to make Wi-Fi available</th>\n",
       "      <th>1.4.1) Urban electricity access</th>\n",
       "      <th>1.4.2) Rural electricity access</th>\n",
       "      <th>...</th>\n",
       "      <th>BG11) Democracy Index</th>\n",
       "      <th>BG12) Corruption Perceptions Index</th>\n",
       "      <th>BG13) EIU Business Environment Rankings</th>\n",
       "      <th>BG14) UN E-Government Development Index</th>\n",
       "      <th>BG17) Internet access gender gap</th>\n",
       "      <th>BG18) Mobile phone access gender gap</th>\n",
       "      <th>BG19) Internet users (percent of population)</th>\n",
       "      <th>BG20) Male internet users</th>\n",
       "      <th>BG21) Female internet users</th>\n",
       "      <th>BG24) Total fixed line broadband subscribers</th>\n",
       "    </tr>\n",
       "  </thead>\n",
       "  <tbody>\n",
       "    <tr>\n",
       "      <th>count</th>\n",
       "      <td>429.000000</td>\n",
       "      <td>429.000000</td>\n",
       "      <td>429.000000</td>\n",
       "      <td>429.000000</td>\n",
       "      <td>429.000000</td>\n",
       "      <td>429.000000</td>\n",
       "      <td>429.000000</td>\n",
       "      <td>429.000000</td>\n",
       "      <td>429.000000</td>\n",
       "      <td>429.000000</td>\n",
       "      <td>...</td>\n",
       "      <td>429.000000</td>\n",
       "      <td>429.000000</td>\n",
       "      <td>429.000000</td>\n",
       "      <td>429.000000</td>\n",
       "      <td>429.000000</td>\n",
       "      <td>429.000000</td>\n",
       "      <td>429.000000</td>\n",
       "      <td>429.000000</td>\n",
       "      <td>429.000000</td>\n",
       "      <td>429.000000</td>\n",
       "    </tr>\n",
       "    <tr>\n",
       "      <th>mean</th>\n",
       "      <td>0.180944</td>\n",
       "      <td>0.192655</td>\n",
       "      <td>0.009918</td>\n",
       "      <td>0.959441</td>\n",
       "      <td>0.869868</td>\n",
       "      <td>0.687288</td>\n",
       "      <td>0.798368</td>\n",
       "      <td>0.658508</td>\n",
       "      <td>0.917007</td>\n",
       "      <td>0.767913</td>\n",
       "      <td>...</td>\n",
       "      <td>5.796037</td>\n",
       "      <td>45.398601</td>\n",
       "      <td>0.697957</td>\n",
       "      <td>0.600699</td>\n",
       "      <td>0.217224</td>\n",
       "      <td>0.098021</td>\n",
       "      <td>0.562061</td>\n",
       "      <td>0.097705</td>\n",
       "      <td>0.096883</td>\n",
       "      <td>0.311936</td>\n",
       "    </tr>\n",
       "    <tr>\n",
       "      <th>std</th>\n",
       "      <td>0.216931</td>\n",
       "      <td>0.187775</td>\n",
       "      <td>0.061072</td>\n",
       "      <td>0.073950</td>\n",
       "      <td>0.180448</td>\n",
       "      <td>0.335342</td>\n",
       "      <td>0.375378</td>\n",
       "      <td>0.440956</td>\n",
       "      <td>0.164057</td>\n",
       "      <td>0.341738</td>\n",
       "      <td>...</td>\n",
       "      <td>2.065359</td>\n",
       "      <td>19.028559</td>\n",
       "      <td>0.153127</td>\n",
       "      <td>0.211303</td>\n",
       "      <td>0.228137</td>\n",
       "      <td>0.129561</td>\n",
       "      <td>0.291142</td>\n",
       "      <td>0.156457</td>\n",
       "      <td>0.161612</td>\n",
       "      <td>0.307405</td>\n",
       "    </tr>\n",
       "    <tr>\n",
       "      <th>min</th>\n",
       "      <td>-0.192618</td>\n",
       "      <td>0.012432</td>\n",
       "      <td>0.000035</td>\n",
       "      <td>0.500000</td>\n",
       "      <td>0.200000</td>\n",
       "      <td>0.000000</td>\n",
       "      <td>0.000000</td>\n",
       "      <td>0.000000</td>\n",
       "      <td>0.164000</td>\n",
       "      <td>0.003600</td>\n",
       "      <td>...</td>\n",
       "      <td>1.100000</td>\n",
       "      <td>14.000000</td>\n",
       "      <td>0.341176</td>\n",
       "      <td>0.100000</td>\n",
       "      <td>-0.321429</td>\n",
       "      <td>-0.152542</td>\n",
       "      <td>0.027081</td>\n",
       "      <td>0.000214</td>\n",
       "      <td>0.000090</td>\n",
       "      <td>0.000026</td>\n",
       "    </tr>\n",
       "    <tr>\n",
       "      <th>25%</th>\n",
       "      <td>0.024221</td>\n",
       "      <td>0.056901</td>\n",
       "      <td>0.001025</td>\n",
       "      <td>0.956100</td>\n",
       "      <td>0.800000</td>\n",
       "      <td>0.403500</td>\n",
       "      <td>1.000000</td>\n",
       "      <td>0.000000</td>\n",
       "      <td>0.930000</td>\n",
       "      <td>0.597100</td>\n",
       "      <td>...</td>\n",
       "      <td>3.900000</td>\n",
       "      <td>31.000000</td>\n",
       "      <td>0.588235</td>\n",
       "      <td>0.400000</td>\n",
       "      <td>0.071429</td>\n",
       "      <td>0.016949</td>\n",
       "      <td>0.271815</td>\n",
       "      <td>0.014294</td>\n",
       "      <td>0.010778</td>\n",
       "      <td>0.028649</td>\n",
       "    </tr>\n",
       "    <tr>\n",
       "      <th>50%</th>\n",
       "      <td>0.101499</td>\n",
       "      <td>0.115179</td>\n",
       "      <td>0.003081</td>\n",
       "      <td>0.990000</td>\n",
       "      <td>0.950000</td>\n",
       "      <td>0.830500</td>\n",
       "      <td>1.000000</td>\n",
       "      <td>1.000000</td>\n",
       "      <td>1.000000</td>\n",
       "      <td>0.981500</td>\n",
       "      <td>...</td>\n",
       "      <td>6.100000</td>\n",
       "      <td>40.000000</td>\n",
       "      <td>0.670588</td>\n",
       "      <td>0.600000</td>\n",
       "      <td>0.178571</td>\n",
       "      <td>0.067797</td>\n",
       "      <td>0.619860</td>\n",
       "      <td>0.029938</td>\n",
       "      <td>0.025391</td>\n",
       "      <td>0.207625</td>\n",
       "    </tr>\n",
       "    <tr>\n",
       "      <th>75%</th>\n",
       "      <td>0.314879</td>\n",
       "      <td>0.269913</td>\n",
       "      <td>0.005867</td>\n",
       "      <td>0.999200</td>\n",
       "      <td>0.995000</td>\n",
       "      <td>0.985000</td>\n",
       "      <td>1.000000</td>\n",
       "      <td>1.000000</td>\n",
       "      <td>1.000000</td>\n",
       "      <td>1.000000</td>\n",
       "      <td>...</td>\n",
       "      <td>7.500000</td>\n",
       "      <td>59.000000</td>\n",
       "      <td>0.811765</td>\n",
       "      <td>0.800000</td>\n",
       "      <td>0.357143</td>\n",
       "      <td>0.167797</td>\n",
       "      <td>0.821464</td>\n",
       "      <td>0.118068</td>\n",
       "      <td>0.115980</td>\n",
       "      <td>0.600792</td>\n",
       "    </tr>\n",
       "    <tr>\n",
       "      <th>max</th>\n",
       "      <td>1.000000</td>\n",
       "      <td>1.000000</td>\n",
       "      <td>1.000000</td>\n",
       "      <td>1.000000</td>\n",
       "      <td>1.000000</td>\n",
       "      <td>1.000000</td>\n",
       "      <td>1.000000</td>\n",
       "      <td>1.000000</td>\n",
       "      <td>1.000000</td>\n",
       "      <td>1.000000</td>\n",
       "      <td>...</td>\n",
       "      <td>9.400000</td>\n",
       "      <td>90.000000</td>\n",
       "      <td>1.000000</td>\n",
       "      <td>1.000000</td>\n",
       "      <td>1.000000</td>\n",
       "      <td>1.000000</td>\n",
       "      <td>1.000000</td>\n",
       "      <td>1.000000</td>\n",
       "      <td>1.000000</td>\n",
       "      <td>1.000000</td>\n",
       "    </tr>\n",
       "  </tbody>\n",
       "</table>\n",
       "<p>8 rows × 57 columns</p>\n",
       "</div>"
      ],
      "text/plain": [
       "       1.1.4) Gender gap in internet access  \\\n",
       "count                            429.000000   \n",
       "mean                               0.180944   \n",
       "std                                0.216931   \n",
       "min                               -0.192618   \n",
       "25%                                0.024221   \n",
       "50%                                0.101499   \n",
       "75%                                0.314879   \n",
       "max                                1.000000   \n",
       "\n",
       "       1.2.2) Average fixed broadband download speed  \\\n",
       "count                                     429.000000   \n",
       "mean                                        0.192655   \n",
       "std                                         0.187775   \n",
       "min                                         0.012432   \n",
       "25%                                         0.056901   \n",
       "50%                                         0.115179   \n",
       "75%                                         0.269913   \n",
       "max                                         1.000000   \n",
       "\n",
       "       1.2.7) Bandwidth capacity  1.3.1) Network coverage (min. 2G)  \\\n",
       "count                 429.000000                         429.000000   \n",
       "mean                    0.009918                           0.959441   \n",
       "std                     0.061072                           0.073950   \n",
       "min                     0.000035                           0.500000   \n",
       "25%                     0.001025                           0.956100   \n",
       "50%                     0.003081                           0.990000   \n",
       "75%                     0.005867                           0.999200   \n",
       "max                     1.000000                           1.000000   \n",
       "\n",
       "       1.3.2) Network coverage (min. 3G)  1.3.3) Network coverage (min. 4G)  \\\n",
       "count                         429.000000                         429.000000   \n",
       "mean                            0.869868                           0.687288   \n",
       "std                             0.180448                           0.335342   \n",
       "min                             0.200000                           0.000000   \n",
       "25%                             0.800000                           0.403500   \n",
       "50%                             0.950000                           0.830500   \n",
       "75%                             0.995000                           0.985000   \n",
       "max                             1.000000                           1.000000   \n",
       "\n",
       "       1.3.5) Government initiatives to make Wi-Fi available  \\\n",
       "count                                         429.000000       \n",
       "mean                                            0.798368       \n",
       "std                                             0.375378       \n",
       "min                                             0.000000       \n",
       "25%                                             1.000000       \n",
       "50%                                             1.000000       \n",
       "75%                                             1.000000       \n",
       "max                                             1.000000       \n",
       "\n",
       "       1.3.6) Private sector initiatives to make Wi-Fi available  \\\n",
       "count                                         429.000000           \n",
       "mean                                            0.658508           \n",
       "std                                             0.440956           \n",
       "min                                             0.000000           \n",
       "25%                                             0.000000           \n",
       "50%                                             1.000000           \n",
       "75%                                             1.000000           \n",
       "max                                             1.000000           \n",
       "\n",
       "       1.4.1) Urban electricity access  1.4.2) Rural electricity access  ...  \\\n",
       "count                       429.000000                       429.000000  ...   \n",
       "mean                          0.917007                         0.767913  ...   \n",
       "std                           0.164057                         0.341738  ...   \n",
       "min                           0.164000                         0.003600  ...   \n",
       "25%                           0.930000                         0.597100  ...   \n",
       "50%                           1.000000                         0.981500  ...   \n",
       "75%                           1.000000                         1.000000  ...   \n",
       "max                           1.000000                         1.000000  ...   \n",
       "\n",
       "       BG11) Democracy Index  BG12) Corruption Perceptions Index  \\\n",
       "count             429.000000                          429.000000   \n",
       "mean                5.796037                           45.398601   \n",
       "std                 2.065359                           19.028559   \n",
       "min                 1.100000                           14.000000   \n",
       "25%                 3.900000                           31.000000   \n",
       "50%                 6.100000                           40.000000   \n",
       "75%                 7.500000                           59.000000   \n",
       "max                 9.400000                           90.000000   \n",
       "\n",
       "       BG13) EIU Business Environment Rankings  \\\n",
       "count                               429.000000   \n",
       "mean                                  0.697957   \n",
       "std                                   0.153127   \n",
       "min                                   0.341176   \n",
       "25%                                   0.588235   \n",
       "50%                                   0.670588   \n",
       "75%                                   0.811765   \n",
       "max                                   1.000000   \n",
       "\n",
       "       BG14) UN E-Government Development Index  \\\n",
       "count                               429.000000   \n",
       "mean                                  0.600699   \n",
       "std                                   0.211303   \n",
       "min                                   0.100000   \n",
       "25%                                   0.400000   \n",
       "50%                                   0.600000   \n",
       "75%                                   0.800000   \n",
       "max                                   1.000000   \n",
       "\n",
       "       BG17) Internet access gender gap  BG18) Mobile phone access gender gap  \\\n",
       "count                        429.000000                            429.000000   \n",
       "mean                           0.217224                              0.098021   \n",
       "std                            0.228137                              0.129561   \n",
       "min                           -0.321429                             -0.152542   \n",
       "25%                            0.071429                              0.016949   \n",
       "50%                            0.178571                              0.067797   \n",
       "75%                            0.357143                              0.167797   \n",
       "max                            1.000000                              1.000000   \n",
       "\n",
       "       BG19) Internet users (percent of population)  \\\n",
       "count                                    429.000000   \n",
       "mean                                       0.562061   \n",
       "std                                        0.291142   \n",
       "min                                        0.027081   \n",
       "25%                                        0.271815   \n",
       "50%                                        0.619860   \n",
       "75%                                        0.821464   \n",
       "max                                        1.000000   \n",
       "\n",
       "       BG20) Male internet users  BG21) Female internet users  \\\n",
       "count                 429.000000                   429.000000   \n",
       "mean                    0.097705                     0.096883   \n",
       "std                     0.156457                     0.161612   \n",
       "min                     0.000214                     0.000090   \n",
       "25%                     0.014294                     0.010778   \n",
       "50%                     0.029938                     0.025391   \n",
       "75%                     0.118068                     0.115980   \n",
       "max                     1.000000                     1.000000   \n",
       "\n",
       "       BG24) Total fixed line broadband subscribers  \n",
       "count                                    429.000000  \n",
       "mean                                       0.311936  \n",
       "std                                        0.307405  \n",
       "min                                        0.000026  \n",
       "25%                                        0.028649  \n",
       "50%                                        0.207625  \n",
       "75%                                        0.600792  \n",
       "max                                        1.000000  \n",
       "\n",
       "[8 rows x 57 columns]"
      ]
     },
     "execution_count": 5,
     "metadata": {},
     "output_type": "execute_result"
    }
   ],
   "source": [
    "target_column = ['BG5) GINI coefficient', 'BG10) Global Peace Index', 'BG11) Democracy Index', 'BG12) Corruption Perceptions Index'] \n",
    "predictors = list(set(list(df.columns))-set(target_column))\n",
    "df[predictors] = df[predictors]/df[predictors].max()\n",
    "df.describe()"
   ]
  },
  {
   "cell_type": "code",
   "execution_count": 6,
   "metadata": {
    "id": "emBz3_MFtSMZ"
   },
   "outputs": [],
   "source": [
    "X = df[predictors].values"
   ]
  },
  {
   "cell_type": "markdown",
   "metadata": {
    "id": "7a0A7cYk7iBg"
   },
   "source": [
    "### Adjusted R square function"
   ]
  },
  {
   "cell_type": "code",
   "execution_count": 7,
   "metadata": {
    "id": "KlAv1bGC7bQE"
   },
   "outputs": [],
   "source": [
    "def get_adj_r_squared(r2, n, p):\n",
    "  adj_r2 = 1-(1-r2)*(n-1)/(n-p-1)\n",
    "  return adj_r2"
   ]
  },
  {
   "cell_type": "markdown",
   "metadata": {
    "id": "_bQUjrJ6t5EV"
   },
   "source": [
    "## Gini coefficient - ElasticNet model"
   ]
  },
  {
   "cell_type": "code",
   "execution_count": 8,
   "metadata": {
    "id": "Zwgyyr1LuAN0"
   },
   "outputs": [],
   "source": [
    "#create new slice of data\n",
    "X_gini = df['BG24) Total fixed line broadband subscribers']"
   ]
  },
  {
   "cell_type": "code",
   "execution_count": 9,
   "metadata": {
    "id": "2KMBdbpJDvBv"
   },
   "outputs": [],
   "source": [
    "X_gini = np.array(X_gini).reshape(-1, 1)"
   ]
  },
  {
   "cell_type": "code",
   "execution_count": 10,
   "metadata": {
    "colab": {
     "base_uri": "https://localhost:8080/"
    },
    "id": "rfw7Cw6UtU_K",
    "outputId": "910b47cc-1e42-47b2-968f-9f2fabb15ddd"
   },
   "outputs": [
    {
     "name": "stdout",
     "output_type": "stream",
     "text": [
      "(343, 1)\n",
      "(86, 1)\n"
     ]
    }
   ],
   "source": [
    "X_gini_train, X_gini_test, y_gini_train, y_gini_test = train_test_split(X_gini, y_gini, test_size=0.20, random_state=40)\n",
    "print(X_gini_train.shape)\n",
    "print(X_gini_test.shape)"
   ]
  },
  {
   "cell_type": "code",
   "execution_count": 11,
   "metadata": {
    "id": "-9ollu7gv4Tn"
   },
   "outputs": [],
   "source": [
    "# define model\n",
    "model_elastic = ElasticNet()\n",
    "# define model evaluation method\n",
    "cv_elastic = RepeatedKFold(n_splits=10, n_repeats=3, random_state=1)\n",
    "# define grid\n",
    "grid = dict()\n",
    "grid['alpha'] = [1e-5, 1e-4, 1e-3, 1e-2, 1e-1, 0.0, 1.0, 10.0, 100.0]\n",
    "grid['l1_ratio'] = np.arange(0, 1, 0.01)\n",
    "# define search\n",
    "search_elastic_gini = GridSearchCV(model_elastic, grid, scoring='neg_root_mean_squared_error', cv=cv_elastic, n_jobs=-1)\n",
    "# perform the search\n",
    "results_gini = search_elastic_gini.fit(X_gini, y_gini)"
   ]
  },
  {
   "cell_type": "code",
   "execution_count": 12,
   "metadata": {
    "colab": {
     "base_uri": "https://localhost:8080/"
    },
    "id": "u9g7bqeAN6di",
    "outputId": "1fd9936f-fb65-4c73-e5c3-9654c165d89e"
   },
   "outputs": [
    {
     "name": "stdout",
     "output_type": "stream",
     "text": [
      "RMSE score for training set 6.886712222979056\n",
      "R^2 for training set 0.2261658383865216\n",
      "RMSE score for test set 6.452150466474243\n",
      "R^2 for test set -0.02985905526108734\n"
     ]
    }
   ],
   "source": [
    "pred_train_enet_gini= search_elastic_gini.predict(X_gini_train)\n",
    "print(\"RMSE score for training set\", np.sqrt(mean_squared_error(y_gini_train,pred_train_enet_gini)))\n",
    "print(\"R^2 for training set\", r2_score(y_gini_train, pred_train_enet_gini))\n",
    "\n",
    "pred_test_enet_gini= search_elastic_gini.predict(X_gini_test)\n",
    "print(\"RMSE score for test set\", np.sqrt(mean_squared_error(y_gini_test,pred_test_enet_gini)))\n",
    "print(\"R^2 for test set\", get_adj_r_squared(r2_score(y_gini_test, pred_test_enet_gini),429,1))"
   ]
  },
  {
   "cell_type": "markdown",
   "metadata": {
    "id": "j4jQ9kuPx7mb"
   },
   "source": [
    "## World Peace - ElasticNet model"
   ]
  },
  {
   "cell_type": "code",
   "execution_count": 13,
   "metadata": {
    "id": "tf57follwDIR"
   },
   "outputs": [],
   "source": [
    "#create new slice of data\n",
    "predictors_peace = ['1.1.4) Gender gap in internet access','1.2.2) Average fixed broadband download speed', '2.1.1) Smartphone cost (handset)', '3.2.6) e-Commerce content', 'BG9) Percentage of schools with Internet access', 'BG24) Total fixed line broadband subscribers']\n",
    "df[predictors_peace] = df[predictors_peace]/df[predictors_peace].max()"
   ]
  },
  {
   "cell_type": "code",
   "execution_count": 14,
   "metadata": {
    "id": "OYVnjRMF3aoS"
   },
   "outputs": [],
   "source": [
    "X_peace = df[predictors_peace].values"
   ]
  },
  {
   "cell_type": "code",
   "execution_count": 15,
   "metadata": {
    "colab": {
     "base_uri": "https://localhost:8080/"
    },
    "id": "Kwbr-Ubx6mvu",
    "outputId": "4bb91628-ad11-4dfc-b08f-05b19ab3f337"
   },
   "outputs": [
    {
     "name": "stdout",
     "output_type": "stream",
     "text": [
      "(343, 6)\n",
      "(86, 6)\n"
     ]
    }
   ],
   "source": [
    "X_peace_train, X_peace_test, y_peace_train, y_peace_test = train_test_split(X_peace, y_peace, test_size=0.20, random_state=40)\n",
    "print(X_peace_train.shape)\n",
    "print(X_peace_test.shape)"
   ]
  },
  {
   "cell_type": "code",
   "execution_count": 16,
   "metadata": {
    "id": "ucoBjy3N59Qy"
   },
   "outputs": [],
   "source": [
    "# define model\n",
    "model_elastic = ElasticNet()\n",
    "# define model evaluation method\n",
    "cv_elastic = RepeatedKFold(n_splits=10, n_repeats=3, random_state=1)\n",
    "# define grid\n",
    "grid = dict()\n",
    "grid['alpha'] = [1e-5, 1e-4, 1e-3, 1e-2, 1e-1, 0.0, 1.0, 10.0, 100.0]\n",
    "grid['l1_ratio'] = np.arange(0, 1, 0.01)\n",
    "# define search\n",
    "search_elastic_peace = GridSearchCV(model_elastic, grid, scoring='neg_root_mean_squared_error', cv=cv_elastic, n_jobs=-1)\n",
    "# perform the search\n",
    "results_peace = search_elastic_peace.fit(X_peace, y_peace)"
   ]
  },
  {
   "cell_type": "code",
   "execution_count": 17,
   "metadata": {
    "colab": {
     "base_uri": "https://localhost:8080/"
    },
    "id": "q6riA7nN6FDa",
    "outputId": "e49bec9b-2432-4f13-a6aa-79c6768f8895"
   },
   "outputs": [
    {
     "name": "stdout",
     "output_type": "stream",
     "text": [
      "RMSE score for training set 0.37647052269151243\n",
      "R^2 for training set 0.2980447610298588\n",
      "RMSE score for test set 0.3776987514386919\n",
      "R^2 for test set 0.32569972222573595\n"
     ]
    }
   ],
   "source": [
    "pred_train_enet_peace= search_elastic_peace.predict(X_peace_train)\n",
    "print(\"RMSE score for training set\", np.sqrt(mean_squared_error(y_peace_train,pred_train_enet_peace)))\n",
    "print(\"R^2 for training set\", r2_score(y_peace_train, pred_train_enet_peace))\n",
    "\n",
    "pred_test_enet_peace= search_elastic_peace.predict(X_peace_test)\n",
    "print(\"RMSE score for test set\", np.sqrt(mean_squared_error(y_peace_test,pred_test_enet_peace)))\n",
    "print(\"R^2 for test set\", get_adj_r_squared(r2_score(y_peace_test, pred_test_enet_peace),429,6))"
   ]
  },
  {
   "cell_type": "code",
   "execution_count": 18,
   "metadata": {
    "colab": {
     "base_uri": "https://localhost:8080/"
    },
    "id": "FZacgKTj7O97",
    "outputId": "45305a15-86b1-444a-baed-254fa4c29d96"
   },
   "outputs": [
    {
     "data": {
      "image/png": "[encoded data removed]",
      "text/plain": [
       "<Figure size 640x480 with 1 Axes>"
      ]
     },
     "metadata": {},
     "output_type": "display_data"
    }
   ],
   "source": [
    "residuals = y_peace_test - pred_test_enet_peace\n",
    "plt.scatter(residuals, pred_test_enet_peace)\n",
    "plt.show()"
   ]
  },
  {
   "cell_type": "code",
   "execution_count": 19,
   "metadata": {
    "colab": {
     "base_uri": "https://localhost:8080/"
    },
    "id": "MRTQjaPyd7AS",
    "outputId": "b4dc2619-c864-40bd-bff5-68c5d61aca0a"
   },
   "outputs": [
    {
     "data": {
      "text/html": [
       "<div>\n",
       "<style scoped>\n",
       "    .dataframe tbody tr th:only-of-type {\n",
       "        vertical-align: middle;\n",
       "    }\n",
       "\n",
       "    .dataframe tbody tr th {\n",
       "        vertical-align: top;\n",
       "    }\n",
       "\n",
       "    .dataframe thead th {\n",
       "        text-align: right;\n",
       "    }\n",
       "</style>\n",
       "<table border=\"1\" class=\"dataframe\">\n",
       "  <thead>\n",
       "    <tr style=\"text-align: right;\">\n",
       "      <th></th>\n",
       "      <th>feature</th>\n",
       "      <th>VIF</th>\n",
       "    </tr>\n",
       "  </thead>\n",
       "  <tbody>\n",
       "    <tr>\n",
       "      <th>0</th>\n",
       "      <td>1.1.4) Gender gap in internet access</td>\n",
       "      <td>1.579659</td>\n",
       "    </tr>\n",
       "    <tr>\n",
       "      <th>1</th>\n",
       "      <td>1.2.2) Average fixed broadband download speed</td>\n",
       "      <td>4.863063</td>\n",
       "    </tr>\n",
       "    <tr>\n",
       "      <th>2</th>\n",
       "      <td>2.1.1) Smartphone cost (handset)</td>\n",
       "      <td>16.073119</td>\n",
       "    </tr>\n",
       "    <tr>\n",
       "      <th>3</th>\n",
       "      <td>3.2.6) e-Commerce content</td>\n",
       "      <td>32.226466</td>\n",
       "    </tr>\n",
       "    <tr>\n",
       "      <th>4</th>\n",
       "      <td>BG9) Percentage of schools with Internet access</td>\n",
       "      <td>14.911012</td>\n",
       "    </tr>\n",
       "    <tr>\n",
       "      <th>5</th>\n",
       "      <td>BG24) Total fixed line broadband subscribers</td>\n",
       "      <td>8.484875</td>\n",
       "    </tr>\n",
       "  </tbody>\n",
       "</table>\n",
       "</div>"
      ],
      "text/plain": [
       "                                           feature        VIF\n",
       "0             1.1.4) Gender gap in internet access   1.579659\n",
       "1    1.2.2) Average fixed broadband download speed   4.863063\n",
       "2                 2.1.1) Smartphone cost (handset)  16.073119\n",
       "3                        3.2.6) e-Commerce content  32.226466\n",
       "4  BG9) Percentage of schools with Internet access  14.911012\n",
       "5     BG24) Total fixed line broadband subscribers   8.484875"
      ]
     },
     "execution_count": 19,
     "metadata": {},
     "output_type": "execute_result"
    }
   ],
   "source": [
    "vif_data_peace = pd.DataFrame()\n",
    "vif_data_peace[\"feature\"] = predictors_peace\n",
    "  \n",
    "# calculating VIF for each feature\n",
    "vif_data_peace[\"VIF\"] = [variance_inflation_factor(X_peace, i)\n",
    "                          for i in range(len(predictors_peace))]\n",
    "vif_data_peace"
   ]
  },
  {
   "cell_type": "code",
   "execution_count": 20,
   "metadata": {
    "id": "5T0qfNTFyV4t"
   },
   "outputs": [],
   "source": [
    "variables = list(df[predictors].columns)\n",
    "coefficients_elastic_peace = search_elastic_peace.best_estimator_.coef_"
   ]
  },
  {
   "cell_type": "code",
   "execution_count": 21,
   "metadata": {
    "colab": {
     "base_uri": "https://localhost:8080/"
    },
    "id": "4TiqU0wzyVum",
    "outputId": "b570540b-fc21-452f-c2e4-424696e7ea00"
   },
   "outputs": [
    {
     "name": "stdout",
     "output_type": "stream",
     "text": [
      "3.2.3) e-Health content : -0.0\n",
      "4.3.1.1) Comprehensive female e-inclusion plan : -0.27357473298892504\n",
      "4.3.6) National digital identification system : -0.21575681171714836\n",
      "BG14) UN E-Government Development Index : -0.09162126177582165\n",
      "BG18) Mobile phone access gender gap : -0.08758919822582027\n",
      "1.4.1) Urban electricity access : -0.3346058750320962\n"
     ]
    }
   ],
   "source": [
    "for (colname, coef) in zip(variables, coefficients_elastic_peace):\n",
    "  print(colname, \":\", coef)"
   ]
  },
  {
   "cell_type": "markdown",
   "metadata": {
    "id": "mwtRp9948Fu0"
   },
   "source": [
    "## Democracy Index - Ridge model"
   ]
  },
  {
   "cell_type": "code",
   "execution_count": 22,
   "metadata": {
    "id": "ueKxRO3t7-tH"
   },
   "outputs": [],
   "source": [
    "#create new slice of data\n",
    "predictors_dem = ['1.2.2) Average fixed broadband download speed', '2.1.1) Smartphone cost (handset)', '2.2.3) Broadband operators\\' market share', '3.2.6) e-Commerce content', '4.1.2) Educational attainment', '4.2.5) Trust in information from social media', 'BG9) Percentage of schools with Internet access','BG10) Global Peace Index', 'BG11) Democracy Index', 'BG12) Corruption Perceptions Index', 'BG24) Total fixed line broadband subscribers']\n",
    "df[predictors_dem] = df[predictors_dem]/df[predictors_dem].max()"
   ]
  },
  {
   "cell_type": "code",
   "execution_count": 23,
   "metadata": {
    "id": "_ZsVn9T_8-f7"
   },
   "outputs": [],
   "source": [
    "X_dem = df[predictors_dem].values"
   ]
  },
  {
   "cell_type": "code",
   "execution_count": 24,
   "metadata": {
    "colab": {
     "base_uri": "https://localhost:8080/"
    },
    "id": "zFwBaMd89qY_",
    "outputId": "98d56b0c-852e-4214-fcd8-ce2151b3ccfb"
   },
   "outputs": [
    {
     "name": "stdout",
     "output_type": "stream",
     "text": [
      "(343, 11)\n",
      "(86, 11)\n"
     ]
    }
   ],
   "source": [
    "X_dem_train, X_dem_test, y_dem_train, y_dem_test = train_test_split(X_dem, y_dem, test_size=0.20, random_state=40)\n",
    "print(X_dem_train.shape)\n",
    "print(X_dem_test.shape)"
   ]
  },
  {
   "cell_type": "code",
   "execution_count": 25,
   "metadata": {
    "colab": {
     "base_uri": "https://localhost:8080/"
    },
    "id": "x--nZLje-uY4",
    "outputId": "daff1d50-b174-4ae6-986f-b2a235ee33b7"
   },
   "outputs": [],
   "source": [
    "# define model evaluation method\n",
    "cv_ridge = RepeatedKFold(n_splits=10, n_repeats=3, random_state=1)\n",
    "# define grid\n",
    "grid = dict()\n",
    "grid['alpha'] = np.arange(0, 1, 0.01)\n",
    "alphas = np.arange(0, 1, 0.01)\n",
    "# define search\n",
    "search_dem = RidgeCV(alphas=alphas, scoring='neg_root_mean_squared_error', cv=cv_ridge)\n",
    "# perform the search\n",
    "results_dem = search_dem.fit(X_dem, y_dem)"
   ]
  },
  {
   "cell_type": "code",
   "execution_count": 26,
   "metadata": {
    "colab": {
     "base_uri": "https://localhost:8080/"
    },
    "id": "H7w5_ln6-7yI",
    "outputId": "db00c79f-3612-4033-b96e-15331ae2aacf"
   },
   "outputs": [
    {
     "name": "stdout",
     "output_type": "stream",
     "text": [
      "RMSE score for training set 4.124225781564681e-15\n",
      "R^2 for training set 1.0\n",
      "RMSE score for test set 4.345696471103035e-15\n",
      "R^2 for test set 1.0\n"
     ]
    }
   ],
   "source": [
    "pred_train_rdem = search_dem.predict(X_dem_train)\n",
    "print(\"RMSE score for training set\", np.sqrt(mean_squared_error(y_dem_train,pred_train_rdem)))\n",
    "print(\"R^2 for training set\", r2_score(y_dem_train, pred_train_rdem))\n",
    "\n",
    "pred_test_rdem= search_dem.predict(X_dem_test)\n",
    "print(\"RMSE score for test set\", np.sqrt(mean_squared_error(y_dem_test,pred_test_rdem))) \n",
    "print(\"R^2 for test set\", get_adj_r_squared(r2_score(y_dem_test, pred_test_rdem),429,11))"
   ]
  },
  {
   "cell_type": "code",
   "execution_count": 27,
   "metadata": {
    "colab": {
     "base_uri": "https://localhost:8080/"
    },
    "id": "24Hvxhdx-8mi",
    "outputId": "06e62b51-122c-47ed-8a55-6c8b7b91e974"
   },
   "outputs": [
    {
     "data": {
      "image/png": "[encoded data removed]",
      "text/plain": [
       "<Figure size 640x480 with 1 Axes>"
      ]
     },
     "metadata": {},
     "output_type": "display_data"
    }
   ],
   "source": [
    "residuals = y_dem_test - pred_test_rdem\n",
    "plt.scatter(residuals, pred_test_rdem)\n",
    "plt.show()"
   ]
  },
  {
   "cell_type": "code",
   "execution_count": 28,
   "metadata": {
    "colab": {
     "base_uri": "https://localhost:8080/",
     "height": 1000
    },
    "id": "KOeSkY2mjcdl",
    "outputId": "a096ebab-e0b6-4ad9-8615-734cf0b5dd20"
   },
   "outputs": [
    {
     "data": {
      "text/html": [
       "<div>\n",
       "<style scoped>\n",
       "    .dataframe tbody tr th:only-of-type {\n",
       "        vertical-align: middle;\n",
       "    }\n",
       "\n",
       "    .dataframe tbody tr th {\n",
       "        vertical-align: top;\n",
       "    }\n",
       "\n",
       "    .dataframe thead th {\n",
       "        text-align: right;\n",
       "    }\n",
       "</style>\n",
       "<table border=\"1\" class=\"dataframe\">\n",
       "  <thead>\n",
       "    <tr style=\"text-align: right;\">\n",
       "      <th></th>\n",
       "      <th>feature</th>\n",
       "      <th>VIF</th>\n",
       "    </tr>\n",
       "  </thead>\n",
       "  <tbody>\n",
       "    <tr>\n",
       "      <th>0</th>\n",
       "      <td>1.2.2) Average fixed broadband download speed</td>\n",
       "      <td>5.032462</td>\n",
       "    </tr>\n",
       "    <tr>\n",
       "      <th>1</th>\n",
       "      <td>2.1.1) Smartphone cost (handset)</td>\n",
       "      <td>18.205773</td>\n",
       "    </tr>\n",
       "    <tr>\n",
       "      <th>2</th>\n",
       "      <td>2.2.3) Broadband operators' market share</td>\n",
       "      <td>7.535097</td>\n",
       "    </tr>\n",
       "    <tr>\n",
       "      <th>3</th>\n",
       "      <td>3.2.6) e-Commerce content</td>\n",
       "      <td>61.913005</td>\n",
       "    </tr>\n",
       "    <tr>\n",
       "      <th>4</th>\n",
       "      <td>4.1.2) Educational attainment</td>\n",
       "      <td>40.314049</td>\n",
       "    </tr>\n",
       "    <tr>\n",
       "      <th>5</th>\n",
       "      <td>4.2.5) Trust in information from social media</td>\n",
       "      <td>11.056457</td>\n",
       "    </tr>\n",
       "    <tr>\n",
       "      <th>6</th>\n",
       "      <td>BG9) Percentage of schools with Internet access</td>\n",
       "      <td>15.545295</td>\n",
       "    </tr>\n",
       "    <tr>\n",
       "      <th>7</th>\n",
       "      <td>BG10) Global Peace Index</td>\n",
       "      <td>17.651684</td>\n",
       "    </tr>\n",
       "    <tr>\n",
       "      <th>8</th>\n",
       "      <td>BG11) Democracy Index</td>\n",
       "      <td>17.821799</td>\n",
       "    </tr>\n",
       "    <tr>\n",
       "      <th>9</th>\n",
       "      <td>BG12) Corruption Perceptions Index</td>\n",
       "      <td>32.333145</td>\n",
       "    </tr>\n",
       "    <tr>\n",
       "      <th>10</th>\n",
       "      <td>BG24) Total fixed line broadband subscribers</td>\n",
       "      <td>11.968317</td>\n",
       "    </tr>\n",
       "  </tbody>\n",
       "</table>\n",
       "</div>"
      ],
      "text/plain": [
       "                                            feature        VIF\n",
       "0     1.2.2) Average fixed broadband download speed   5.032462\n",
       "1                  2.1.1) Smartphone cost (handset)  18.205773\n",
       "2          2.2.3) Broadband operators' market share   7.535097\n",
       "3                         3.2.6) e-Commerce content  61.913005\n",
       "4                     4.1.2) Educational attainment  40.314049\n",
       "5     4.2.5) Trust in information from social media  11.056457\n",
       "6   BG9) Percentage of schools with Internet access  15.545295\n",
       "7                          BG10) Global Peace Index  17.651684\n",
       "8                             BG11) Democracy Index  17.821799\n",
       "9                BG12) Corruption Perceptions Index  32.333145\n",
       "10     BG24) Total fixed line broadband subscribers  11.968317"
      ]
     },
     "execution_count": 28,
     "metadata": {},
     "output_type": "execute_result"
    }
   ],
   "source": [
    "vif_data_dem = pd.DataFrame()\n",
    "vif_data_dem[\"feature\"] = predictors_dem\n",
    "  \n",
    "# calculating VIF for each feature\n",
    "vif_data_dem[\"VIF\"] = [variance_inflation_factor(X_dem, i)\n",
    "                          for i in range(len(predictors_dem))]\n",
    "vif_data_dem"
   ]
  },
  {
   "cell_type": "markdown",
   "metadata": {
    "id": "K6R0G_vV9R_b"
   },
   "source": [
    "## Corruption Index - Multivariate model"
   ]
  },
  {
   "cell_type": "code",
   "execution_count": 29,
   "metadata": {
    "id": "xAQL45vk9ZCl"
   },
   "outputs": [],
   "source": [
    "#create new slice of data\n",
    "predictors_corr = ['1.1.4) Gender gap in internet access','1.2.2) Average fixed broadband download speed', '2.1.1) Smartphone cost (handset)', '3.2.6) e-Commerce content', '4.1.3) Support for digital literacy', '4.3.1.2) Female digital skills training plan', 'BG9) Percentage of schools with Internet access', 'BG19) Internet users (percent of population)', 'BG24) Total fixed line broadband subscribers']\n",
    "df[predictors_corr] = df[predictors_corr]/df[predictors_corr].max()"
   ]
  },
  {
   "cell_type": "code",
   "execution_count": 30,
   "metadata": {
    "id": "OCQYqLZQ9l3M"
   },
   "outputs": [],
   "source": [
    "X_corr = df[predictors_corr].values"
   ]
  },
  {
   "cell_type": "code",
   "execution_count": 31,
   "metadata": {
    "colab": {
     "base_uri": "https://localhost:8080/"
    },
    "id": "ho3cNZr79rCO",
    "outputId": "5ae5bd72-a86a-49a5-8b66-9d492671933e"
   },
   "outputs": [
    {
     "name": "stdout",
     "output_type": "stream",
     "text": [
      "(343, 9)\n",
      "(86, 9)\n"
     ]
    }
   ],
   "source": [
    "X_corr_train, X_corr_test, y_corr_train, y_corr_test = train_test_split(X_corr, y_corr, test_size=0.20, random_state=40)\n",
    "print(X_corr_train.shape)\n",
    "print(X_corr_test.shape)"
   ]
  },
  {
   "cell_type": "code",
   "execution_count": 32,
   "metadata": {
    "colab": {
     "base_uri": "https://localhost:8080/"
    },
    "id": "24yqwsAJB2b1",
    "outputId": "a782337e-188b-494b-8ebc-95ebc8d098e4"
   },
   "outputs": [
    {
     "data": {
      "text/plain": [
       "LinearRegression()"
      ]
     },
     "execution_count": 32,
     "metadata": {},
     "output_type": "execute_result"
    }
   ],
   "source": [
    "model_corr = LinearRegression()\n",
    "model_corr.fit(X_corr_train, y_corr_train)"
   ]
  },
  {
   "cell_type": "code",
   "execution_count": 33,
   "metadata": {
    "colab": {
     "base_uri": "https://localhost:8080/"
    },
    "id": "S1tMEQGAB5Z7",
    "outputId": "a995335c-cf21-47e4-abc5-26107a3db0cc"
   },
   "outputs": [
    {
     "name": "stdout",
     "output_type": "stream",
     "text": [
      "RMSE for training data 10.174538563020054\n",
      "Coefficient of Determination for training data 0.7076855809940987\n"
     ]
    }
   ],
   "source": [
    "pred_corr_train_lr= model_corr.predict(X_corr_train)\n",
    "print(\"RMSE for training data\", np.sqrt(mean_squared_error(y_corr_train,pred_corr_train_lr)))\n",
    "print(\"Coefficient of Determination for training data\", r2_score(y_corr_train, pred_corr_train_lr))"
   ]
  },
  {
   "cell_type": "code",
   "execution_count": 34,
   "metadata": {
    "colab": {
     "base_uri": "https://localhost:8080/"
    },
    "id": "AU2WW6kaCAEh",
    "outputId": "3528faf4-c990-42d8-c85c-cc8384471bc8"
   },
   "outputs": [
    {
     "name": "stdout",
     "output_type": "stream",
     "text": [
      "RMSE for testing data 10.621930688509456\n",
      "Coefficient of Determination for test data 0.7034413842590614\n"
     ]
    }
   ],
   "source": [
    "pred_corr_test_lr= model_corr.predict(X_corr_test)\n",
    "print(\"RMSE for testing data\", np.sqrt(mean_squared_error(y_corr_test,pred_corr_test_lr))) \n",
    "print(\"Coefficient of Determination for test data\", get_adj_r_squared(r2_score(y_corr_test, pred_corr_test_lr), 429, 9))"
   ]
  },
  {
   "cell_type": "code",
   "execution_count": 35,
   "metadata": {
    "colab": {
     "base_uri": "https://localhost:8080/",
     "height": 265
    },
    "id": "9z6hqnGrCDTV",
    "outputId": "98607bcc-1416-45f7-de72-d13180516c11"
   },
   "outputs": [
    {
     "data": {
      "image/png": "[encoded data removed]",
      "text/plain": [
       "<Figure size 640x480 with 1 Axes>"
      ]
     },
     "metadata": {},
     "output_type": "display_data"
    }
   ],
   "source": [
    "residuals = y_corr_test - pred_corr_test_lr\n",
    "plt.scatter(residuals, pred_corr_test_lr)\n",
    "plt.show()"
   ]
  },
  {
   "cell_type": "code",
   "execution_count": 36,
   "metadata": {
    "colab": {
     "base_uri": "https://localhost:8080/",
     "height": 872
    },
    "id": "rWD0oRr5jMHV",
    "outputId": "c4c009f7-05e2-4260-dada-2b69e59a6966"
   },
   "outputs": [
    {
     "data": {
      "text/html": [
       "<div>\n",
       "<style scoped>\n",
       "    .dataframe tbody tr th:only-of-type {\n",
       "        vertical-align: middle;\n",
       "    }\n",
       "\n",
       "    .dataframe tbody tr th {\n",
       "        vertical-align: top;\n",
       "    }\n",
       "\n",
       "    .dataframe thead th {\n",
       "        text-align: right;\n",
       "    }\n",
       "</style>\n",
       "<table border=\"1\" class=\"dataframe\">\n",
       "  <thead>\n",
       "    <tr style=\"text-align: right;\">\n",
       "      <th></th>\n",
       "      <th>feature</th>\n",
       "      <th>VIF</th>\n",
       "    </tr>\n",
       "  </thead>\n",
       "  <tbody>\n",
       "    <tr>\n",
       "      <th>0</th>\n",
       "      <td>1.1.4) Gender gap in internet access</td>\n",
       "      <td>1.887958</td>\n",
       "    </tr>\n",
       "    <tr>\n",
       "      <th>1</th>\n",
       "      <td>1.2.2) Average fixed broadband download speed</td>\n",
       "      <td>4.942653</td>\n",
       "    </tr>\n",
       "    <tr>\n",
       "      <th>2</th>\n",
       "      <td>2.1.1) Smartphone cost (handset)</td>\n",
       "      <td>18.651407</td>\n",
       "    </tr>\n",
       "    <tr>\n",
       "      <th>3</th>\n",
       "      <td>3.2.6) e-Commerce content</td>\n",
       "      <td>43.773667</td>\n",
       "    </tr>\n",
       "    <tr>\n",
       "      <th>4</th>\n",
       "      <td>4.1.3) Support for digital literacy</td>\n",
       "      <td>9.810722</td>\n",
       "    </tr>\n",
       "    <tr>\n",
       "      <th>5</th>\n",
       "      <td>4.3.1.2) Female digital skills training plan</td>\n",
       "      <td>1.743904</td>\n",
       "    </tr>\n",
       "    <tr>\n",
       "      <th>6</th>\n",
       "      <td>BG9) Percentage of schools with Internet access</td>\n",
       "      <td>17.043512</td>\n",
       "    </tr>\n",
       "    <tr>\n",
       "      <th>7</th>\n",
       "      <td>BG19) Internet users (percent of population)</td>\n",
       "      <td>30.432051</td>\n",
       "    </tr>\n",
       "    <tr>\n",
       "      <th>8</th>\n",
       "      <td>BG24) Total fixed line broadband subscribers</td>\n",
       "      <td>9.149074</td>\n",
       "    </tr>\n",
       "  </tbody>\n",
       "</table>\n",
       "</div>"
      ],
      "text/plain": [
       "                                           feature        VIF\n",
       "0             1.1.4) Gender gap in internet access   1.887958\n",
       "1    1.2.2) Average fixed broadband download speed   4.942653\n",
       "2                 2.1.1) Smartphone cost (handset)  18.651407\n",
       "3                        3.2.6) e-Commerce content  43.773667\n",
       "4              4.1.3) Support for digital literacy   9.810722\n",
       "5     4.3.1.2) Female digital skills training plan   1.743904\n",
       "6  BG9) Percentage of schools with Internet access  17.043512\n",
       "7     BG19) Internet users (percent of population)  30.432051\n",
       "8     BG24) Total fixed line broadband subscribers   9.149074"
      ]
     },
     "execution_count": 36,
     "metadata": {},
     "output_type": "execute_result"
    }
   ],
   "source": [
    "vif_data_corr = pd.DataFrame()\n",
    "vif_data_corr[\"feature\"] = predictors_corr\n",
    "  \n",
    "# calculating VIF for each feature\n",
    "vif_data_corr[\"VIF\"] = [variance_inflation_factor(X_corr, i)\n",
    "                          for i in range(len(predictors_corr))]\n",
    "vif_data_corr"
   ]
  },
  {
   "cell_type": "code",
   "execution_count": null,
   "metadata": {},
   "outputs": [],
   "source": []
  }
 ],
 "metadata": {
  "colab": {
   "collapsed_sections": [],
   "name": "NewModels_DA.ipynb",
   "provenance": []
  },
  "kernelspec": {
   "display_name": "Python 3 (ipykernel)",
   "language": "python",
   "name": "python3"
  },
  "language_info": {
   "codemirror_mode": {
    "name": "ipython",
    "version": 3
   },
   "file_extension": ".py",
   "mimetype": "text/x-python",
   "name": "python",
   "nbconvert_exporter": "python",
   "pygments_lexer": "ipython3",
   "version": "3.9.13"
  }
 },
 "nbformat": 4,
 "nbformat_minor": 1
}
